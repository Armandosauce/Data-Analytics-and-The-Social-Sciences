{
 "cells": [
  {
   "cell_type": "markdown",
   "metadata": {},
   "source": [
    "# Linear Regression: Data Analytics Demo"
   ]
  },
  {
   "cell_type": "markdown",
   "metadata": {},
   "source": [
    "We will explore measures of corruption of different countries based on a data set that measures number of parking violations for diplomats visiting NYC. Before 2002 diplomats were granted immunity from parking violations and that changed after November 2002. We can use this use this data to begin and explore measures of corruption using Linear Regression methods and hypothesis testing. "
   ]
  },
  {
   "cell_type": "code",
   "execution_count": 2,
   "metadata": {},
   "outputs": [],
   "source": [
    "#Importing our libraries needed\n",
    "import numpy as np\n",
    "import pandas as pd\n",
    "from scipy import stats\n",
    "import matplotlib.pyplot as plt"
   ]
  },
  {
   "cell_type": "code",
   "execution_count": 3,
   "metadata": {},
   "outputs": [
    {
     "name": "stdout",
     "output_type": "stream",
     "text": [
      "  wbcode               country prepost  viol_rush  viol_hydrant  \\\n",
      "0    AGO                Angola     pre   4.051054    154.142624   \n",
      "1    AGO                Angola     pos   0.000000      2.616488   \n",
      "2    ALB               Albania     pre   2.430633    110.188683   \n",
      "3    ALB               Albania     pos   0.000000      0.000000   \n",
      "4    ARE  United Arab Emirates     pre   0.000000      0.000000   \n",
      "\n",
      "   viol_afterhours           due  violations         fines  mission  \\\n",
      "0        32.003330  83109.406250  744.381226  40293.812500        1   \n",
      "1         1.635305   2045.766113   15.371863   1208.490112        1   \n",
      "2        78.995560  29185.822266  256.634308  13970.061523        1   \n",
      "3         0.981183    760.416687    5.560036    609.968628        1   \n",
      "4         0.000000      0.000000    0.000000      0.000000        1   \n",
      "\n",
      "     ...      r_southamerica  r_oceana  r_asia  dislike_usa  dislike_others  \\\n",
      "0    ...                   0         0       0     2.028961        2.124807   \n",
      "1    ...                   0         0       0     2.028961        2.124807   \n",
      "2    ...                   0         0       0          NaN             NaN   \n",
      "3    ...                   0         0       0          NaN             NaN   \n",
      "4    ...                   0         0       0          NaN             NaN   \n",
      "\n",
      "   neg_viol_pc  corruption_post  dislike_usa_post  dislike_others_post  \\\n",
      "0   -82.709023         0.000000          0.000000             0.000000   \n",
      "1    -1.707985         1.047506          2.028961             2.124807   \n",
      "2   -85.544769         0.000000               NaN                  NaN   \n",
      "3    -1.853345         0.921079               NaN                  NaN   \n",
      "4     0.000000         0.000000               NaN                  NaN   \n",
      "\n",
      "   distUNplz  \n",
      "0   1.553611  \n",
      "1   1.553611  \n",
      "2   1.775412  \n",
      "3   1.775412  \n",
      "4   0.333886  \n",
      "\n",
      "[5 rows x 70 columns]\n",
      "['wbcode', 'country', 'prepost', 'viol_rush', 'viol_hydrant', 'viol_afterhours', 'due', 'violations', 'fines', 'mission', 'staff', 'spouse', 'viol_paid', 'gov_wage_gdp', 'pctmuslim', 'majoritymuslim', 'trade', 'cars_total', 'cars_personal', 'cars_mission', 'distw', 'pop1998', 'gdppcus1998', 'control_corrupt_1998', 'ecaid', 'milaid', 'region', 'post', 'ltrade', 'lcars_total', 'ldistw', 'lgdppcus', 'lpop', 'ldue', 'lviolations', 'lfines', 'lviol_afterhours', 'lviol_rush', 'lviol_hydrant', 'lviol_paid', 'lviol_pc', 'viol_pc', 'lstaff', 'corruption', 'totaid', 'ltotaid', 'totaid_dum', 'lmilaid', 'milaid_dum', 'lecaid', 'ecaid_dum', 'corruption2', 'lgdppcus2', 'corruption3', 'lgdppcus3', 'corruption4', 'lgdppcus4', 'r_africa', 'r_middleeast', 'r_europe', 'r_southamerica', 'r_oceana', 'r_asia', 'dislike_usa', 'dislike_others', 'neg_viol_pc', 'corruption_post', 'dislike_usa_post', 'dislike_others_post', 'distUNplz']\n"
     ]
    }
   ],
   "source": [
    "#changing working directory and importing data\n",
    "import os\n",
    "os.chdir('C:\\\\Users\\\\feder\\Desktop\\\\Stata Documents\\\\dta_files')\n",
    "df=pd.read_stata('parking-data.dta',convert_missing=False)\n",
    "print(df.head(5))\n",
    "var_names=list(df.columns.values)\n",
    "print(var_names)"
   ]
  },
  {
   "cell_type": "code",
   "execution_count": 4,
   "metadata": {},
   "outputs": [
    {
     "name": "stdout",
     "output_type": "stream",
     "text": [
      "count     298.000000\n",
      "mean      100.879173\n",
      "std       302.233124\n",
      "min         0.000000\n",
      "25%         0.654122\n",
      "50%         5.723566\n",
      "75%        51.914753\n",
      "max      3392.960693\n",
      "Name: violations, dtype: float64\n",
      "count     302\n",
      "unique      2\n",
      "top       pos\n",
      "freq      151\n",
      "Name: prepost, dtype: object\n",
      "count    298.000000\n",
      "mean       9.862918\n",
      "std       25.237558\n",
      "min        0.000000\n",
      "25%        0.077223\n",
      "50%        0.605063\n",
      "75%        7.803244\n",
      "max      249.364914\n",
      "Name: viol_pc, dtype: float64\n"
     ]
    }
   ],
   "source": [
    "#Describe a single variable out of the 67 that we have stored\n",
    "print(df['violations'].describe())\n",
    "print(df['prepost'].describe())\n",
    "print(df['viol_pc'].describe())"
   ]
  },
  {
   "cell_type": "code",
   "execution_count": 5,
   "metadata": {},
   "outputs": [],
   "source": [
    "#Creating Dummy Variables for Regressional Analysis\n",
    "dummies=pd.get_dummies(df['prepost'])\n",
    "df['pre']=dummies['pre']\n",
    "df['post']=dummies['pos']\n",
    "df['viol_pc']= df['viol_pc'].fillna(9.8629)\n",
    "df['post']= df['post'].dropna()"
   ]
  },
  {
   "cell_type": "markdown",
   "metadata": {},
   "source": [
    "We will now regress our dummy variable signaling The start of the enforcement period. Our estimated equation is as follows. \n",
    "Viol_pc=B0 + B1*(Post). Replacing the value of 1 means that we are in the enforcement period, and a value of 0 means we are the pre enforcement period."
   ]
  },
  {
   "cell_type": "code",
   "execution_count": 6,
   "metadata": {
    "scrolled": true
   },
   "outputs": [
    {
     "name": "stdout",
     "output_type": "stream",
     "text": [
      "const    19.181368\n",
      "post    -18.636904\n",
      "dtype: float64\n",
      "                            OLS Regression Results                            \n",
      "==============================================================================\n",
      "Dep. Variable:                viol_pc   R-squared:                       0.139\n",
      "Model:                            OLS   Adj. R-squared:                  0.136\n",
      "Method:                 Least Squares   F-statistic:                     48.28\n",
      "Date:                Wed, 20 Feb 2019   Prob (F-statistic):           2.30e-11\n",
      "Time:                        17:21:29   Log-Likelihood:                -1378.4\n",
      "No. Observations:                 302   AIC:                             2761.\n",
      "Df Residuals:                     300   BIC:                             2768.\n",
      "Df Model:                           1                                         \n",
      "Covariance Type:            nonrobust                                         \n",
      "==============================================================================\n",
      "                 coef    std err          t      P>|t|      [0.025      0.975]\n",
      "------------------------------------------------------------------------------\n",
      "const         19.1814      1.897     10.114      0.000      15.449      22.914\n",
      "post         -18.6369      2.682     -6.948      0.000     -23.915     -13.359\n",
      "==============================================================================\n",
      "Omnibus:                      348.410   Durbin-Watson:                   1.970\n",
      "Prob(Omnibus):                  0.000   Jarque-Bera (JB):            18595.110\n",
      "Skew:                           5.059   Prob(JB):                         0.00\n",
      "Kurtosis:                      40.086   Cond. No.                         2.62\n",
      "==============================================================================\n",
      "\n",
      "Warnings:\n",
      "[1] Standard Errors assume that the covariance matrix of the errors is correctly specified.\n"
     ]
    }
   ],
   "source": [
    "import statsmodels.api as sm\n",
    "intercept=sm.add_constant(df['post'])\n",
    "model=sm.OLS(df['viol_pc'],intercept)\n",
    "regression=model.fit()\n",
    "print(regression.params)\n",
    "print(regression.summary())"
   ]
  },
  {
   "cell_type": "markdown",
   "metadata": {},
   "source": [
    "From our regression above we can analyze certain elements:\n",
    "1. Our constant value means that on average there are about 19.18 violations per diplomat per year by any given country.\n",
    "\n",
    "2. Our Post variable coefficient tells us that holding all else constant after Novemeber 2002 there is a decrease on average of 18.6369 violations per diplomat per year.\n",
    "\n",
    "3. Both our p values are below 0.05 meaning that at 95% confidence we can say that there is a statistically significant decrease in violations after November 2002."
   ]
  },
  {
   "cell_type": "markdown",
   "metadata": {},
   "source": [
    "## Conclusion\n",
    "\n",
    "    Using a simple bi-variate regression we can estimate that violations overall did go down, and we discussed what each coefficient meant as is stated in the analysis above. In this case our policy did reduce the amount of violations committed.\n",
    "    We can improve on this model by adding more variables to get rid of ommitted variable bias. We also discussed scenarios in which we might want to know this information. In scenarios where a country wants to implement a similar policy, they can use this data and see if it was a statistically significant reduction or not. "
   ]
  }
 ],
 "metadata": {
  "kernelspec": {
   "display_name": "Python 3",
   "language": "python",
   "name": "python3"
  },
  "language_info": {
   "codemirror_mode": {
    "name": "ipython",
    "version": 3
   },
   "file_extension": ".py",
   "mimetype": "text/x-python",
   "name": "python",
   "nbconvert_exporter": "python",
   "pygments_lexer": "ipython3",
   "version": "3.6.7"
  }
 },
 "nbformat": 4,
 "nbformat_minor": 2
}
