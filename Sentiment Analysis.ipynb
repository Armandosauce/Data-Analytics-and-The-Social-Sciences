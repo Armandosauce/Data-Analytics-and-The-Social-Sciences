{
 "cells": [
  {
   "cell_type": "markdown",
   "metadata": {},
   "source": [
    "# Sentiment Analysis on Twitter Data: Lexicon Method"
   ]
  },
  {
   "cell_type": "markdown",
   "metadata": {},
   "source": [
    "Steps that we will take in order to make a Sentiment Analysis:\n",
    "1. Import Dependencies and Tools needed for Analysis.\n",
    "2. Run Mock example on three made up Tweets involving me.\n",
    "3. Create a key to be able to use Twitter Data.\n",
    "4. Pull Data from Twitter and Create a distribution of the polarity scores.\n",
    "5. Conclusion and Shortcomings"
   ]
  },
  {
   "cell_type": "markdown",
   "metadata": {},
   "source": [
    "## Step 1: Importing Dependencies"
   ]
  },
  {
   "cell_type": "code",
   "execution_count": 3,
   "metadata": {},
   "outputs": [],
   "source": [
    "#Importing libraries and Dependencies\n",
    "import tweepy\n",
    "from textblob import TextBlob\n",
    "import nltk\n",
    "import numpy as np\n",
    "import pandas as pd\n",
    "from nltk.sentiment.vader import SentimentIntensityAnalyzer\n",
    "import matplotlib.pyplot as plt\n",
    "import seaborn as sns"
   ]
  },
  {
   "cell_type": "code",
   "execution_count": 12,
   "metadata": {},
   "outputs": [],
   "source": [
    "#Single String tweet\n",
    "tweet1=TextBlob(\"I think Federico is a cool guy\")\n",
    "tweet2=TextBlob('I semi love Federico')\n",
    "tweet3=TextBlob(\"I really adore Federico\")"
   ]
  },
  {
   "cell_type": "markdown",
   "metadata": {},
   "source": [
    "## Step 2: Mock Trial Run using our Three Tweets above"
   ]
  },
  {
   "cell_type": "code",
   "execution_count": 13,
   "metadata": {},
   "outputs": [
    {
     "name": "stdout",
     "output_type": "stream",
     "text": [
      "The score for this is: 0.35 which means this is a positive comment :)\n",
      "The score for this is: 0.5 which means this is a positive comment :)\n",
      "The score for this is: 0.2 which means this is a positive comment :)\n",
      "0.35000000000000003\n",
      "The mean score for this is: 0.35000000000000003 which means this is a positive sentiment :)\n"
     ]
    }
   ],
   "source": [
    "#Test run with a single string\n",
    "Ts1=tweet1.sentiment.polarity\n",
    "Ts2=tweet2.sentiment.polarity\n",
    "Ts3=tweet3.sentiment.polarity\n",
    "tweet_Scores=[Ts1,Ts2,Ts3]\n",
    "for tweets in tweet_Scores:\n",
    "    if tweets<0:\n",
    "        print('The score for this is: '+ str(tweets) +' which means this is a negative comment')\n",
    "    elif tweets>0:\n",
    "        print('The score for this is: '+ str(tweets) + ' which means this is a positive comment :)')\n",
    "    else:\n",
    "        print('There is neither a positive or a negative opinion')\n",
    "        \n",
    "\n",
    "np_tweet_scores=np.asarray(tweet_Scores)\n",
    "print(np.mean(np_tweet_scores))\n",
    "if np.mean(np_tweet_scores) < 0:\n",
    "    print('The mean score for this is: '+ str(np.mean(np_tweet_scores)) +' which means this is a negative sentiment')\n",
    "elif tweets>0:\n",
    "    print('The mean score for this is: '+ str(np.mean(np_tweet_scores)) + ' which means this is a positive sentiment :)')\n",
    "else:\n",
    "    print('There mean is neither a positive or a negative sentiment')"
   ]
  },
  {
   "cell_type": "markdown",
   "metadata": {},
   "source": [
    "## Step 3: Access Twitter Data"
   ]
  },
  {
   "cell_type": "code",
   "execution_count": 6,
   "metadata": {},
   "outputs": [],
   "source": [
    "#Creating variables to authenticate our Twitter Access to gather our data\n",
    "\n",
    "c_key='p5bQwib7i8SESdxaSZxxSlZas'\n",
    "c_secret='CH2tdp70JGCHYLyZQjzDnYHjfM70byfWV4OHDzhmfZWi6ZYwim'\n",
    "access_token='1088521662193033216-vpdGOQNmyhBZLSR6dZGZaS5iPbddnk'\n",
    "access_token_secret='eDPNsLMajMRY08g5FihpeFRYfQFDr4OYj7a0vX6uxsUow'\n",
    "\n",
    "authenticate= tweepy.OAuthHandler(c_key, c_secret)\n",
    "authenticate.set_access_token(access_token, access_token_secret)\n",
    "api = tweepy.API(authenticate)"
   ]
  },
  {
   "cell_type": "code",
   "execution_count": 8,
   "metadata": {},
   "outputs": [],
   "source": [
    "import re\n",
    "def plain_tweet(tweet):\n",
    "    return ' '.join(re.sub(\"(@[A-Za-z0-9]+)|([^0-9A-Za-z \\t])|(\\w+:\\/\\/\\s+)\",\" \",tweet).split())"
   ]
  },
  {
   "cell_type": "markdown",
   "metadata": {},
   "source": [
    "## Step 4: Pull Twitter Data and Plot Polarity Scores"
   ]
  },
  {
   "cell_type": "code",
   "execution_count": 9,
   "metadata": {},
   "outputs": [
    {
     "name": "stdout",
     "output_type": "stream",
     "text": [
      "What do you want to search for on Twitter? Nigeria\n"
     ]
    }
   ],
   "source": [
    "name= input('What do you want to search for on Twitter? ')\n",
    "tweets= api.search(name, count=100)\n",
    "sid=SentimentIntensityAnalyzer()\n",
    "data=pd.DataFrame([plain_tweet(tweet.text) for tweet in tweets], columns=['Tweets'])\n",
    "#print(data)\n",
    "score_list=[]\n",
    "for index,row in data.iterrows():\n",
    "    ss=sid.polarity_scores(row['Tweets'])\n",
    "    score_list.append(ss)\n",
    "ba=pd.Series(score_list)\n",
    "data['Polarity']=ba.values"
   ]
  },
  {
   "cell_type": "code",
   "execution_count": 10,
   "metadata": {
    "scrolled": false
   },
   "outputs": [
    {
     "name": "stdout",
     "output_type": "stream",
     "text": [
      "Polarity Scores: \n",
      "compound       0.108518\n",
      "neg            0.048206\n",
      "neu            0.862144\n",
      "pos            0.089670\n",
      "non_neutral    0.041464\n",
      "dtype: float64\n"
     ]
    }
   ],
   "source": [
    "datas=pd.DataFrame(score_list)\n",
    "datas['non_neutral']= datas['pos']-datas['neg']\n",
    "print(\"Polarity Scores: \")\n",
    "print(datas.mean())"
   ]
  },
  {
   "cell_type": "code",
   "execution_count": 11,
   "metadata": {},
   "outputs": [
    {
     "data": {
      "image/png": "[encoded data removed]",
      "text/plain": [
       "<Figure size 432x288 with 1 Axes>"
      ]
     },
     "metadata": {},
     "output_type": "display_data"
    }
   ],
   "source": [
    "sns.set()\n",
    "plt.hist(datas['compound'],bins=10,color='tab:cyan')\n",
    "plt.title('Compound Polarity Distribution: ' +str(name))\n",
    "plt.xlabel('Polarity Score')\n",
    "plt.ylabel('Frequency')\n",
    "plt.show()"
   ]
  },
  {
   "cell_type": "markdown",
   "metadata": {},
   "source": [
    "## Step 5:  Conclusion\n",
    "\n",
    "    After using a Lexicon we can gain a bit of insight and is best used for comparison of two different products. For example in our demonstration we compared Coca-Cola to Pepsi and saw that on average people tend to have a more positive view of Coca-Cola on Twitter. Feel free to use this and compare any two topics on Twitter, change the count of tweets or even implement a start and end date function. \n",
    "    There are many shortcomings to this approach as using a Lexicon makes it so each word is rated separately and it does not take into consideration words before or after. It is a simple score given to each word and then it takes the sum to create a score for the whole sentence. As people in our discussion pointed out, it does not account for sarcasm or Trends such as \"Pepsi is More than Okay.\" We discussed that this could be improved by deep learning netwokrs as someone in the audience suggested."
   ]
  }
 ],
 "metadata": {
  "kernelspec": {
   "display_name": "Python 3",
   "language": "python",
   "name": "python3"
  }
 },
 "nbformat": 4,
 "nbformat_minor": 2
}
